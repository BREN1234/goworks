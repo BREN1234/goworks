{
 "cells": [
  {
   "cell_type": "code",
   "execution_count": null,
   "metadata": {},
   "outputs": [],
   "source": [
    "import random "
   ]
  },
  {
   "cell_type": "code",
   "execution_count": null,
   "metadata": {},
   "outputs": [],
   "source": [
    "def Rand(start, end, num): \n",
    "    res = [] \n",
    "    for j in range(num): \n",
    "        res.append(random.randint(start, end)) \n",
    "    return res "
   ]
  },
  {
   "cell_type": "code",
   "execution_count": null,
   "metadata": {},
   "outputs": [],
   "source": [
    "num = 1\n",
    "start = 0\n",
    "end = 37\n",
    "randNum=Rand(start, end, num)[0]"
   ]
  },
  {
   "cell_type": "code",
   "execution_count": null,
   "metadata": {},
   "outputs": [],
   "source": [
    "#Get Cookies\n",
    "cookies= input()\n",
    "baseP=int(input())"
   ]
  },
  {
   "cell_type": "code",
   "execution_count": null,
   "metadata": {},
   "outputs": [],
   "source": [
    "userType=int(cookies[-1])\n",
    "deviceType= int(cookies[-2])"
   ]
  },
  {
   "cell_type": "code",
   "execution_count": null,
   "metadata": {},
   "outputs": [],
   "source": [
    "disPrice=baseP"
   ]
  },
  {
   "cell_type": "code",
   "execution_count": null,
   "metadata": {},
   "outputs": [],
   "source": [
    "if randNum > 20:\n",
    "    disPrice= disPrice +(max(baseP*.05,10))\n",
    "else:\n",
    "    disPrice=baseP\n",
    "    \n",
    "if userType == 0:\n",
    "    disPrice=disPrice\n",
    "elif userType%2 ==0: # Reg.IND\n",
    "    disPrice = disPrice +(max(baseP * .05,10))\n",
    "else:\n",
    "    disPrice= disPrice +(max(baseP *.15,30))\n",
    "#Device\n",
    "if deviceType % 2== 0:# others\n",
    "    disPrice = disPrice\n",
    "else:\n",
    "    disPrice= disPrice + (max(baseP * .1,20))"
   ]
  },
  {
   "cell_type": "code",
   "execution_count": null,
   "metadata": {},
   "outputs": [],
   "source": []
  }
 ],
 "metadata": {
  "kernelspec": {
   "display_name": "Python 3",
   "language": "python",
   "name": "python3"
  },
  "language_info": {
   "codemirror_mode": {
    "name": "ipython",
    "version": 3
   },
   "file_extension": ".py",
   "mimetype": "text/x-python",
   "name": "python",
   "nbconvert_exporter": "python",
   "pygments_lexer": "ipython3",
   "version": "3.7.4"
  }
 },
 "nbformat": 4,
 "nbformat_minor": 2
}
